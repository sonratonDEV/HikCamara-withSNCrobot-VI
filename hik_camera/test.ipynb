{
 "cells": [
  {
   "cell_type": "code",
   "execution_count": 1,
   "metadata": {},
   "outputs": [],
   "source": [
    "import os\n",
    "import sys"
   ]
  },
  {
   "cell_type": "code",
   "execution_count": 2,
   "metadata": {},
   "outputs": [
    {
     "ename": "NameError",
     "evalue": "name '__file__' is not defined",
     "output_type": "error",
     "traceback": [
      "\u001b[1;31m---------------------------------------------------------------------------\u001b[0m",
      "\u001b[1;31mNameError\u001b[0m                                 Traceback (most recent call last)",
      "\u001b[1;32mc:\\Users\\sonraton\\Desktop\\SNC_backup\\qc_pro\\hik_camera-master\\hik_camera\\test.ipynb Cell 2\u001b[0m line \u001b[0;36m3\n\u001b[0;32m      <a href='vscode-notebook-cell:/c%3A/Users/sonraton/Desktop/SNC_backup/qc_pro/hik_camera-master/hik_camera/test.ipynb#W1sZmlsZQ%3D%3D?line=0'>1</a>\u001b[0m sys\u001b[39m.\u001b[39mplatform\u001b[39m.\u001b[39mstartswith(\u001b[39m\"\u001b[39m\u001b[39mwin\u001b[39m\u001b[39m\"\u001b[39m)\n\u001b[0;32m      <a href='vscode-notebook-cell:/c%3A/Users/sonraton/Desktop/SNC_backup/qc_pro/hik_camera-master/hik_camera/test.ipynb#W1sZmlsZQ%3D%3D?line=1'>2</a>\u001b[0m \u001b[39m# Get the current script's directory\u001b[39;00m\n\u001b[1;32m----> <a href='vscode-notebook-cell:/c%3A/Users/sonraton/Desktop/SNC_backup/qc_pro/hik_camera-master/hik_camera/test.ipynb#W1sZmlsZQ%3D%3D?line=2'>3</a>\u001b[0m script_directory \u001b[39m=\u001b[39m os\u001b[39m.\u001b[39mpath\u001b[39m.\u001b[39mdirname(os\u001b[39m.\u001b[39mpath\u001b[39m.\u001b[39mabspath(\u001b[39m__file__\u001b[39;49m))\n\u001b[0;32m      <a href='vscode-notebook-cell:/c%3A/Users/sonraton/Desktop/SNC_backup/qc_pro/hik_camera-master/hik_camera/test.ipynb#W1sZmlsZQ%3D%3D?line=3'>4</a>\u001b[0m \u001b[39mprint\u001b[39m(script_directory)\n\u001b[0;32m      <a href='vscode-notebook-cell:/c%3A/Users/sonraton/Desktop/SNC_backup/qc_pro/hik_camera-master/hik_camera/test.ipynb#W1sZmlsZQ%3D%3D?line=4'>5</a>\u001b[0m \u001b[39mprint\u001b[39m(\u001b[39m'\u001b[39m\u001b[39m============================================\u001b[39m\u001b[39m'\u001b[39m)\n",
      "\u001b[1;31mNameError\u001b[0m: name '__file__' is not defined"
     ]
    }
   ],
   "source": [
    "sys.platform.startswith(\"win\")\n",
    "# Get the current script's directory\n",
    "script_directory = os.path.dirname(os.path.abspath(__file__))\n",
    "print(script_directory)\n",
    "print('============================================')\n",
    "\n",
    "# Get the parent directory of the current script's directory\n",
    "parent_directory = os.path.dirname(script_directory)\n",
    "print('Parent1: ',parent_directory)\n",
    "\n",
    "parent_directory2 = os.path.dirname(parent_directory)\n",
    "print('Parent2: ',parent_directory2)\n",
    "\n",
    "# Specify the path to the MvImport directory in the same folder as the script\n",
    "MvImportDir = os.path.join(parent_directory2, \"MvImport\")\n",
    "print('Final: ',MvImportDir)\n"
   ]
  },
  {
   "cell_type": "code",
   "execution_count": 5,
   "metadata": {},
   "outputs": [
    {
     "ename": "NameError",
     "evalue": "name '__file__' is not defined",
     "output_type": "error",
     "traceback": [
      "\u001b[1;31m---------------------------------------------------------------------------\u001b[0m",
      "\u001b[1;31mNameError\u001b[0m                                 Traceback (most recent call last)",
      "\u001b[1;32mc:\\Users\\sonraton\\Desktop\\SNC_backup\\qc_pro\\hik_camera-master\\hik_camera\\test.ipynb Cell 3\u001b[0m line \u001b[0;36m1\n\u001b[1;32m----> <a href='vscode-notebook-cell:/c%3A/Users/sonraton/Desktop/SNC_backup/qc_pro/hik_camera-master/hik_camera/test.ipynb#W4sZmlsZQ%3D%3D?line=0'>1</a>\u001b[0m script_directory \u001b[39m=\u001b[39m os\u001b[39m.\u001b[39mpath\u001b[39m.\u001b[39mabspath(\u001b[39m__file__\u001b[39;49m)\n\u001b[0;32m      <a href='vscode-notebook-cell:/c%3A/Users/sonraton/Desktop/SNC_backup/qc_pro/hik_camera-master/hik_camera/test.ipynb#W4sZmlsZQ%3D%3D?line=1'>2</a>\u001b[0m \u001b[39mprint\u001b[39m(\u001b[39m'\u001b[39m\u001b[39mScript Directory:\u001b[39m\u001b[39m'\u001b[39m, script_directory)\n",
      "\u001b[1;31mNameError\u001b[0m: name '__file__' is not defined"
     ]
    }
   ],
   "source": [
    "script_directory = os.path.abspath(__file__)\n",
    "print('Script Directory:', script_directory)"
   ]
  },
  {
   "cell_type": "code",
   "execution_count": 3,
   "metadata": {},
   "outputs": [
    {
     "name": "stdout",
     "output_type": "stream",
     "text": [
      "Current Directory: c:\\Users\\sonraton\\Desktop\\SNC_backup\\qc_pro\\hik_camera-master\\hik_camera\n",
      "Parent Directory 1: c:\\Users\\sonraton\\Desktop\\SNC_backup\\qc_pro\\hik_camera-master\n",
      "Parent Directory 2: c:\\Users\\sonraton\\Desktop\\SNC_backup\\qc_pro\n",
      "Final Directory: c:\\Users\\sonraton\\Desktop\\SNC_backup\\qc_pro\\MvImport\n"
     ]
    }
   ],
   "source": [
    "# Get the current working directory\n",
    "current_directory = os.getcwd()\n",
    "print('Current Directory:', current_directory)\n",
    "\n",
    "# Get the parent directory of the current working directory\n",
    "parent_directory = os.path.dirname(current_directory)\n",
    "print('Parent Directory 1:', parent_directory)\n",
    "\n",
    "parent_directory2 = os.path.dirname(parent_directory)\n",
    "print('Parent Directory 2:', parent_directory2)\n",
    "\n",
    "# Specify the path to the MvImport directory in the same folder as the script\n",
    "MvImportDir = os.path.join(parent_directory2, \"MvImport\")\n",
    "print('Final Directory:', MvImportDir)"
   ]
  },
  {
   "cell_type": "code",
   "execution_count": 4,
   "metadata": {},
   "outputs": [
    {
     "name": "stdout",
     "output_type": "stream",
     "text": [
      "Current Directory: c:\\Users\\sonraton\\Desktop\\SNC_backup\\qc_pro\\hik_camera-master\\hik_camera\n",
      "Combined Parent Directory: c:\\Users\\sonraton\\Desktop\\SNC_backup\\qc_pro\n",
      "Final Directory: c:\\Users\\sonraton\\Desktop\\SNC_backup\\qc_pro\\MvImport\n"
     ]
    }
   ],
   "source": [
    "# Get the current working directory\n",
    "current_directory = os.getcwd()\n",
    "print('Current Directory:', current_directory)\n",
    "\n",
    "# Combine parent_directory and parent_directory2 in the same line\n",
    "combined_parent_directory = os.path.dirname(os.path.dirname(current_directory))\n",
    "print('Combined Parent Directory:', combined_parent_directory)\n",
    "\n",
    "# Specify the path to the MvImport directory in the same folder as the script\n",
    "MvImportDir = os.path.join(combined_parent_directory, \"MvImport\")\n",
    "print('Final Directory:', MvImportDir)"
   ]
  }
 ],
 "metadata": {
  "kernelspec": {
   "display_name": "qcins",
   "language": "python",
   "name": "python3"
  },
  "language_info": {
   "codemirror_mode": {
    "name": "ipython",
    "version": 3
   },
   "file_extension": ".py",
   "mimetype": "text/x-python",
   "name": "python",
   "nbconvert_exporter": "python",
   "pygments_lexer": "ipython3",
   "version": "3.10.0"
  }
 },
 "nbformat": 4,
 "nbformat_minor": 2
}
